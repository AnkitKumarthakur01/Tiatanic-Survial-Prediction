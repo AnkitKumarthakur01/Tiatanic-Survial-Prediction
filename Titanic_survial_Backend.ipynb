{
  "nbformat": 4,
  "nbformat_minor": 0,
  "metadata": {
    "colab": {
      "provenance": []
    },
    "kernelspec": {
      "name": "python3",
      "display_name": "Python 3"
    },
    "language_info": {
      "name": "python"
    }
  },
  "cells": [
    {
      "cell_type": "code",
      "execution_count": null,
      "metadata": {
        "colab": {
          "base_uri": "https://localhost:8080/"
        },
        "id": "Lal-5_36LmAV",
        "outputId": "b649c46e-a601-4a89-936c-e7dc78d068fb"
      },
      "outputs": [
        {
          "output_type": "stream",
          "name": "stdout",
          "text": [
            "Decision Tree Accuracy: 0.7988826815642458\n",
            "Random Forest Accuracy: 0.8212290502793296\n"
          ]
        }
      ],
      "source": [
        "from sklearn.tree import DecisionTreeClassifier\n",
        "from sklearn.ensemble import RandomForestClassifier\n",
        "from sklearn.preprocessing import LabelEncoder\n",
        "from sklearn.metrics import accuracy_score, classification_report\n",
        "from sklearn.model_selection import train_test_split\n",
        "import pandas as pd\n",
        "import warnings\n",
        "warnings.filterwarnings(\"ignore\")\n",
        "# Load dataset2\n",
        "\n",
        "data = pd.read_csv('Titanic-Dataset.csv')\n",
        "\n",
        "# Preprocessing\n",
        "data['Age'].fillna(data['Age'].median(), inplace=True)\n",
        "data['Embarked'].fillna(data['Embarked'].mode()[0], inplace=True)\n",
        "\n",
        "# Encode categorical variables\n",
        "le_sex = LabelEncoder()\n",
        "le_embarked = LabelEncoder()\n",
        "data['Sex'] = le_sex.fit_transform(data['Sex'])\n",
        "data['Embarked'] = le_embarked.fit_transform(data['Embarked'])\n",
        "\n",
        "X = data[['Pclass', 'Sex', 'Age', 'SibSp', 'Parch', 'Fare', 'Embarked']]\n",
        "y = data['Survived']\n",
        "X_train, X_test, y_train, y_test = train_test_split(X, y, test_size=0.2, random_state=42)\n",
        "\n",
        "# Decision Tree\n",
        "dt_model = DecisionTreeClassifier(max_depth=3, random_state=42)\n",
        "dt_model.fit(X_train, y_train)\n",
        "dt_pred = dt_model.predict(X_test)\n",
        "\n",
        "# Random Forest\n",
        "rf_model = RandomForestClassifier(n_estimators=100, random_state=42)\n",
        "rf_model.fit(X_train, y_train)\n",
        "rf_pred = rf_model.predict(X_test)\n",
        "\n",
        "# Accuracy\n",
        "print(f\"Decision Tree Accuracy: {accuracy_score(y_test, dt_pred)}\")\n",
        "print(f\"Random Forest Accuracy: {accuracy_score(y_test, rf_pred)}\")\n",
        "\n",
        "# User Input for Prediction\n",
        "\n"
      ]
    },
    {
      "cell_type": "code",
      "source": [
        "def predict_titanic():\n",
        "    print(\"\\nEnter the following features for prediction:\")\n",
        "    pclass = int(input(\"Passenger Class (1, 2, 3): \"))\n",
        "    sex = input(\"Sex (male/female): \")\n",
        "    sex = le_sex.transform([sex])[0]\n",
        "    age = float(input(\"Age: \"))\n",
        "    sibsp = int(input(\"Number of Siblings/Spouses Aboard: \"))\n",
        "    parch = int(input(\"Number of Parents/Children Aboard: \"))\n",
        "    fare = float(input(\"Fare: \"))\n",
        "    embarked = input(\"Port of Embarkation (C, Q, S): \")\n",
        "    embarked = le_embarked.transform([embarked])[0]\n",
        "\n",
        "    input_data = [[pclass, sex, age, sibsp, parch, fare, embarked]]\n",
        "    dt_prediction = dt_model.predict(input_data)[0]\n",
        "    rf_prediction = rf_model.predict(input_data)[0]\n",
        "\n",
        "    print(f\"Decision Tree Prediction: {'Survived' if dt_prediction == 1 else 'Not Survived'}\")\n",
        "    print(f\"Random Forest Prediction: {'Survived' if rf_prediction == 1 else 'Not Survived'}\")\n",
        "\n",
        "# Call the prediction function\n",
        "predict_titanic()"
      ],
      "metadata": {
        "colab": {
          "base_uri": "https://localhost:8080/"
        },
        "id": "hsgbOIb3MNaY",
        "outputId": "d6590fa8-ce95-4e03-8e18-aa85e1cb8a32"
      },
      "execution_count": null,
      "outputs": [
        {
          "output_type": "stream",
          "name": "stdout",
          "text": [
            "\n",
            "Enter the following features for prediction:\n",
            "Passenger Class (1, 2, 3): 1\n",
            "Sex (male/female): male\n",
            "Age: 35\n",
            "Number of Siblings/Spouses Aboard: 2\n",
            "Number of Parents/Children Aboard: 2\n",
            "Fare: 7.2\n",
            "Port of Embarkation (C, Q, S): C\n",
            "Decision Tree Prediction: Not Survived\n",
            "Random Forest Prediction: Not Survived\n"
          ]
        }
      ]
    },
    {
      "cell_type": "markdown",
      "source": [
        "#Result: Random forest has give best accuracy of 82%."
      ],
      "metadata": {
        "id": "NwJqmfA3NaAR"
      }
    },
    {
      "cell_type": "code",
      "source": [
        "from sklearn.ensemble import RandomForestClassifier\n",
        "from sklearn.preprocessing import LabelEncoder\n",
        "from sklearn.metrics import accuracy_score\n",
        "from sklearn.model_selection import train_test_split\n",
        "import pandas as pd\n",
        "import joblib  # For saving the model\n",
        "\n",
        "# Load dataset\n",
        "data = pd.read_csv('Titanic-Dataset.csv')\n",
        "\n",
        "# Preprocessing\n",
        "data['Age'].fillna(data['Age'].median(), inplace=True)\n",
        "data['Embarked'].fillna(data['Embarked'].mode()[0], inplace=True)\n",
        "\n",
        "# Encode categorical variables\n",
        "le_sex = LabelEncoder()\n",
        "le_embarked = LabelEncoder()\n",
        "data['Sex'] = le_sex.fit_transform(data['Sex'])\n",
        "data['Embarked'] = le_embarked.fit_transform(data['Embarked'])\n",
        "\n",
        "X = data[['Pclass', 'Sex', 'Age', 'SibSp', 'Parch', 'Fare', 'Embarked']]\n",
        "y = data['Survived']\n",
        "X_train, X_test, y_train, y_test = train_test_split(X, y, test_size=0.2, random_state=42)\n",
        "\n",
        "# Random Forest\n",
        "rf_model = RandomForestClassifier(n_estimators=100, random_state=42)\n",
        "rf_model.fit(X_train, y_train)\n",
        "rf_pred = rf_model.predict(X_test)\n",
        "\n",
        "# Accuracy\n",
        "print(f\"Random Forest Accuracy: {accuracy_score(y_test, rf_pred)}\")\n",
        "\n",
        "def predict_titanic():\n",
        "    print(\"\\nEnter the following features for prediction:\")\n",
        "    pclass = int(input(\"Passenger Class (1, 2, 3): \"))\n",
        "    sex = input(\"Sex (male/female): \")\n",
        "    sex = le_sex.transform([sex])[0]\n",
        "    age = float(input(\"Age: \"))\n",
        "    sibsp = int(input(\"Number of Siblings/Spouses Aboard: \"))\n",
        "    parch = int(input(\"Number of Parents/Children Aboard: \"))\n",
        "    fare = float(input(\"Fare: \"))\n",
        "    embarked = input(\"Port of Embarkation (C, Q, S): \")\n",
        "    embarked = le_embarked.transform([embarked])[0]\n",
        "\n",
        "    input_data = [[pclass, sex, age, sibsp, parch, fare, embarked]]\n",
        "    dt_prediction = dt_model.predict(input_data)[0]\n",
        "    rf_prediction = rf_model.predict(input_data)[0]\n",
        "\n",
        "    print(f\"Decision Tree Prediction: {'Survived' if dt_prediction == 1 else 'Not Survived'}\")\n",
        "    print(f\"Random Forest Prediction: {'Survived' if rf_prediction == 1 else 'Not Survived'}\")\n",
        "\n",
        "# Call the prediction function\n",
        "predict_titanic()\n",
        "\n",
        "# Save the Random Forest model\n",
        "joblib.dump(rf_model, 'random_forest_titanic.pkl')\n",
        "print(\"Random Forest model saved as 'random_forest_titanic.pkl'.\")\n",
        "\n",
        "# Save the LabelEncoders for Sex and Embarked\n",
        "joblib.dump(le_sex, 'label_encoder_sex.pkl')\n",
        "joblib.dump(le_embarked, 'label_encoder_embarked.pkl')\n",
        "print(\"Label Encoders saved.\")\n"
      ],
      "metadata": {
        "colab": {
          "base_uri": "https://localhost:8080/"
        },
        "id": "QUj2OvEaOGi6",
        "outputId": "a115450f-d216-40ae-f10f-265f8f5ff5d5"
      },
      "execution_count": null,
      "outputs": [
        {
          "output_type": "stream",
          "name": "stdout",
          "text": [
            "Random Forest Accuracy: 0.8212290502793296\n",
            "\n",
            "Enter the following features for prediction:\n",
            "Passenger Class (1, 2, 3): 1\n",
            "Sex (male/female): male\n",
            "Age: 32\n",
            "Number of Siblings/Spouses Aboard: 2\n",
            "Number of Parents/Children Aboard: 2\n",
            "Fare: 7.2\n",
            "Port of Embarkation (C, Q, S): C\n",
            "Decision Tree Prediction: Not Survived\n",
            "Random Forest Prediction: Not Survived\n",
            "Random Forest model saved as 'random_forest_titanic.pkl'.\n",
            "Label Encoders saved.\n"
          ]
        }
      ]
    },
    {
      "cell_type": "code",
      "source": [],
      "metadata": {
        "id": "Zu_ycuUeOkQo"
      },
      "execution_count": null,
      "outputs": []
    }
  ]
}